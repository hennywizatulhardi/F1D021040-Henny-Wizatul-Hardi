{
 "cells": [
  {
   "attachments": {},
   "cell_type": "markdown",
   "metadata": {},
   "source": [
    "## Modul 1: Histogram dan Konvolusi"
   ]
  },
  {
   "attachments": {},
   "cell_type": "markdown",
   "metadata": {},
   "source": [
    "### Soal 1\n",
    "#### Buatlah histogram dari........"
   ]
  },
  {
   "cell_type": "code",
   "execution_count": 5,
   "metadata": {},
   "outputs": [
    {
     "name": "stdout",
     "output_type": "stream",
     "text": [
      "Semangat PCD pasti bisa!\n",
      "Semangat PCD pasti bisa!\n",
      "Semangat PCD pasti bisa!\n",
      "Semangat PCD pasti bisa!\n",
      "Semangat PCD pasti bisa!\n",
      "Semangat PCD pasti bisa!\n",
      "Semangat PCD pasti bisa!\n",
      "Semangat PCD pasti bisa!\n",
      "Semangat PCD pasti bisa!\n",
      "Semangat PCD pasti bisa!\n"
     ]
    }
   ],
   "source": [
    "def print_function(jumlah):\n",
    "    for i in range(jumlah):\n",
    "        print(\"Semangat PCD pasti bisa!\")\n",
    "\n",
    "print_function(10)"
   ]
  },
  {
   "attachments": {},
   "cell_type": "markdown",
   "metadata": {},
   "source": [
    "Fungsi di atas berfungsi untuk mencetak perintah semangat sejumlah argumen yang diberikan pada pemanggilan fungsi print_function() "
   ]
  },
  {
   "attachments": {},
   "cell_type": "markdown",
   "metadata": {},
   "source": [
    "### Soal 2\n",
    "#### Lakukanlah ekualisasi histogram dari citra yang diberikan ........"
   ]
  },
  {
   "attachments": {},
   "cell_type": "markdown",
   "metadata": {},
   "source": [
    "Fungsi di bawah berfungsi untuk mencetak perintah semangat sejumlah argumen yang diberikan pada pemanggilan fungsi print_function() "
   ]
  },
  {
   "cell_type": "code",
   "execution_count": 2,
   "metadata": {},
   "outputs": [
    {
     "name": "stdout",
     "output_type": "stream",
     "text": [
      "Semangat adict-adict!\n",
      "Semangat adict-adict!\n",
      "Semangat adict-adict!\n",
      "Semangat adict-adict!\n",
      "Semangat adict-adict!\n"
     ]
    }
   ],
   "source": [
    "def print_function(jumlah):\n",
    "    for i in range(jumlah):\n",
    "        print(\"Semangat adict-adict!\")\n",
    "\n",
    "print_function(5)\n",
    "# inline comment boleh diberikan jika proses yang dilakukan dapat menimbulkan ambiguitas."
   ]
  },
  {
   "cell_type": "code",
   "execution_count": 3,
   "metadata": {},
   "outputs": [
    {
     "name": "stdout",
     "output_type": "stream",
     "text": [
      "Semangat adict-adict!\n",
      "Semangat adict-adict!\n",
      "Semangat adict-adict!\n",
      "Semangat adict-adict!\n",
      "Semangat adict-adict!\n"
     ]
    }
   ],
   "source": [
    "def print_function(jumlah):\n",
    "    for i in range(jumlah):\n",
    "        print(\"Semangat adict-adict!\")\n",
    "\n",
    "print_function(5)\n",
    "# inline comment boleh diberikan jika proses yang dilakukan dapat menimbulkan ambiguitas."
   ]
  },
  {
   "cell_type": "code",
   "execution_count": null,
   "metadata": {},
   "outputs": [],
   "source": []
  }
 ],
 "metadata": {
  "kernelspec": {
   "display_name": "Python 3",
   "language": "python",
   "name": "python3"
  },
  "language_info": {
   "codemirror_mode": {
    "name": "ipython",
    "version": 3
   },
   "file_extension": ".py",
   "mimetype": "text/x-python",
   "name": "python",
   "nbconvert_exporter": "python",
   "pygments_lexer": "ipython3",
   "version": "3.11.2"
  },
  "orig_nbformat": 4
 },
 "nbformat": 4,
 "nbformat_minor": 2
}
